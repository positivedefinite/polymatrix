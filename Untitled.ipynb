{
 "cells": [
  {
   "cell_type": "code",
   "execution_count": 7,
   "id": "identified-possible",
   "metadata": {},
   "outputs": [],
   "source": [
    "\n",
    "import unittest \n",
    "  \n",
    "class MyTestCase(unittest.TestCase): \n",
    "    def test_1(self): \n",
    "        with self.assertRaises(Exception):\n",
    "            1 + '1'\n",
    "  \n",
    "MyTestCase().test_1()"
   ]
  },
  {
   "cell_type": "code",
   "execution_count": null,
   "id": "polar-saskatchewan",
   "metadata": {},
   "outputs": [],
   "source": []
  }
 ],
 "metadata": {
  "kernelspec": {
   "display_name": "Python 3",
   "language": "python",
   "name": "python3"
  },
  "language_info": {
   "codemirror_mode": {
    "name": "ipython",
    "version": 3
   },
   "file_extension": ".py",
   "mimetype": "text/x-python",
   "name": "python",
   "nbconvert_exporter": "python",
   "pygments_lexer": "ipython3",
   "version": "3.7.9"
  }
 },
 "nbformat": 4,
 "nbformat_minor": 5
}
